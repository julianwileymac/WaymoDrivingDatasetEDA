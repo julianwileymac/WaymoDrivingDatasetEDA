{
 "cells": [
  {
   "cell_type": "code",
   "execution_count": 2,
   "metadata": {
    "collapsed": true
   },
   "outputs": [],
   "source": [
    "import os\n",
    "import tensorflow as tf\n",
    "import math\n",
    "import numpy as np\n",
    "import itertools\n",
    "\n",
    "# tf.enable_eager_execution()\n",
    "import waymo_open_dataset as wod\n",
    "from waymo_open_dataset.utils import range_image_utils\n",
    "from waymo_open_dataset.utils import transform_utils\n",
    "from waymo_open_dataset.utils import  frame_utils\n",
    "from waymo_open_dataset import dataset_pb2 as open_dataset\n",
    "# from viz import process_segment\n",
    "from pathlib import Path\n",
    "\n",
    "# Path to the directory with all components\n",
    "dataset_dir = '/media/julian/Volume F/Shared/Data/Waymo Open Dataset'\n",
    "data_dir = Path(dataset_dir)"
   ]
  },
  {
   "cell_type": "code",
   "execution_count": 7,
   "outputs": [
    {
     "name": "stdout",
     "output_type": "stream",
     "text": [
      "Collecting markupsafe==2.0.1\r\n",
      "  Downloading MarkupSafe-2.0.1-cp39-cp39-manylinux_2_5_x86_64.manylinux1_x86_64.manylinux_2_12_x86_64.manylinux2010_x86_64.whl (30 kB)\r\n",
      "Installing collected packages: markupsafe\r\n",
      "  Attempting uninstall: markupsafe\r\n",
      "    Found existing installation: MarkupSafe 2.1.2\r\n",
      "    Uninstalling MarkupSafe-2.1.2:\r\n",
      "      Successfully uninstalled MarkupSafe-2.1.2\r\n",
      "\u001B[31mERROR: pip's dependency resolver does not currently take into account all the packages that are installed. This behaviour is the source of the following dependency conflicts.\r\n",
      "werkzeug 2.3.4 requires MarkupSafe>=2.1.1, but you have markupsafe 2.0.1 which is incompatible.\r\n",
      "distributed 2022.7.0 requires dask==2022.7.0, but you have dask 2023.3.1 which is incompatible.\u001B[0m\u001B[31m\r\n",
      "\u001B[0mSuccessfully installed markupsafe-2.0.1\r\n",
      "Note: you may need to restart the kernel to use updated packages.\n"
     ]
    }
   ],
   "source": [
    "%pip install markupsafe==2.0.1"
   ],
   "metadata": {
    "collapsed": false
   }
  },
  {
   "cell_type": "code",
   "execution_count": 6,
   "outputs": [
    {
     "name": "stderr",
     "output_type": "stream",
     "text": [
      "[libprotobuf ERROR google/protobuf/wire_format_lite.cc:581] String field 'waymo.open_dataset.Context.name' contains invalid UTF-8 data when parsing a protocol buffer. Use the 'bytes' type if you intend to send raw bytes. \n",
      "[libprotobuf ERROR google/protobuf/wire_format_lite.cc:581] String field 'waymo.open_dataset.Context.name' contains invalid UTF-8 data when parsing a protocol buffer. Use the 'bytes' type if you intend to send raw bytes. \n",
      "[libprotobuf ERROR google/protobuf/wire_format_lite.cc:581] String field 'waymo.open_dataset.Context.name' contains invalid UTF-8 data when parsing a protocol buffer. Use the 'bytes' type if you intend to send raw bytes. \n",
      "[libprotobuf ERROR google/protobuf/wire_format_lite.cc:581] String field 'waymo.open_dataset.Context.name' contains invalid UTF-8 data when parsing a protocol buffer. Use the 'bytes' type if you intend to send raw bytes. \n",
      "[libprotobuf ERROR google/protobuf/wire_format_lite.cc:581] String field 'waymo.open_dataset.Context.name' contains invalid UTF-8 data when parsing a protocol buffer. Use the 'bytes' type if you intend to send raw bytes. \n",
      "[libprotobuf ERROR google/protobuf/wire_format_lite.cc:581] String field 'waymo.open_dataset.Context.name' contains invalid UTF-8 data when parsing a protocol buffer. Use the 'bytes' type if you intend to send raw bytes. \n",
      "[libprotobuf ERROR google/protobuf/wire_format_lite.cc:581] String field 'waymo.open_dataset.Context.name' contains invalid UTF-8 data when parsing a protocol buffer. Use the 'bytes' type if you intend to send raw bytes. \n",
      "[libprotobuf ERROR google/protobuf/wire_format_lite.cc:581] String field 'waymo.open_dataset.Context.name' contains invalid UTF-8 data when parsing a protocol buffer. Use the 'bytes' type if you intend to send raw bytes. \n",
      "[libprotobuf ERROR google/protobuf/wire_format_lite.cc:581] String field 'waymo.open_dataset.Context.name' contains invalid UTF-8 data when parsing a protocol buffer. Use the 'bytes' type if you intend to send raw bytes. \n",
      "[libprotobuf ERROR google/protobuf/wire_format_lite.cc:581] String field 'waymo.open_dataset.Context.name' contains invalid UTF-8 data when parsing a protocol buffer. Use the 'bytes' type if you intend to send raw bytes. \n",
      "[libprotobuf ERROR google/protobuf/wire_format_lite.cc:581] String field 'waymo.open_dataset.Context.name' contains invalid UTF-8 data when parsing a protocol buffer. Use the 'bytes' type if you intend to send raw bytes. \n",
      "[libprotobuf ERROR google/protobuf/wire_format_lite.cc:581] String field 'waymo.open_dataset.Context.name' contains invalid UTF-8 data when parsing a protocol buffer. Use the 'bytes' type if you intend to send raw bytes. \n",
      "[libprotobuf ERROR google/protobuf/wire_format_lite.cc:581] String field 'waymo.open_dataset.Context.name' contains invalid UTF-8 data when parsing a protocol buffer. Use the 'bytes' type if you intend to send raw bytes. \n",
      "[libprotobuf ERROR google/protobuf/wire_format_lite.cc:581] String field 'waymo.open_dataset.Context.name' contains invalid UTF-8 data when parsing a protocol buffer. Use the 'bytes' type if you intend to send raw bytes. \n",
      "[libprotobuf ERROR google/protobuf/wire_format_lite.cc:581] String field 'waymo.open_dataset.Context.name' contains invalid UTF-8 data when parsing a protocol buffer. Use the 'bytes' type if you intend to send raw bytes. \n",
      "[libprotobuf ERROR google/protobuf/wire_format_lite.cc:581] String field 'waymo.open_dataset.Context.name' contains invalid UTF-8 data when parsing a protocol buffer. Use the 'bytes' type if you intend to send raw bytes. \n",
      "[libprotobuf ERROR google/protobuf/wire_format_lite.cc:581] String field 'waymo.open_dataset.Context.name' contains invalid UTF-8 data when parsing a protocol buffer. Use the 'bytes' type if you intend to send raw bytes. \n",
      "[libprotobuf ERROR google/protobuf/wire_format_lite.cc:581] String field 'waymo.open_dataset.Context.name' contains invalid UTF-8 data when parsing a protocol buffer. Use the 'bytes' type if you intend to send raw bytes. \n",
      "[libprotobuf ERROR google/protobuf/wire_format_lite.cc:581] String field 'waymo.open_dataset.Context.name' contains invalid UTF-8 data when parsing a protocol buffer. Use the 'bytes' type if you intend to send raw bytes. \n",
      "[libprotobuf ERROR google/protobuf/wire_format_lite.cc:581] String field 'waymo.open_dataset.Context.name' contains invalid UTF-8 data when parsing a protocol buffer. Use the 'bytes' type if you intend to send raw bytes. \n",
      "[libprotobuf ERROR google/protobuf/wire_format_lite.cc:581] String field 'waymo.open_dataset.Context.name' contains invalid UTF-8 data when parsing a protocol buffer. Use the 'bytes' type if you intend to send raw bytes. \n",
      "[libprotobuf ERROR google/protobuf/wire_format_lite.cc:581] String field 'waymo.open_dataset.Context.name' contains invalid UTF-8 data when parsing a protocol buffer. Use the 'bytes' type if you intend to send raw bytes. \n",
      "[libprotobuf ERROR google/protobuf/wire_format_lite.cc:581] String field 'waymo.open_dataset.Context.name' contains invalid UTF-8 data when parsing a protocol buffer. Use the 'bytes' type if you intend to send raw bytes. \n",
      "[libprotobuf ERROR google/protobuf/wire_format_lite.cc:581] String field 'waymo.open_dataset.Context.name' contains invalid UTF-8 data when parsing a protocol buffer. Use the 'bytes' type if you intend to send raw bytes. \n",
      "[libprotobuf ERROR google/protobuf/wire_format_lite.cc:581] String field 'waymo.open_dataset.Context.name' contains invalid UTF-8 data when parsing a protocol buffer. Use the 'bytes' type if you intend to send raw bytes. \n",
      "[libprotobuf ERROR google/protobuf/wire_format_lite.cc:581] String field 'waymo.open_dataset.Context.name' contains invalid UTF-8 data when parsing a protocol buffer. Use the 'bytes' type if you intend to send raw bytes. \n",
      "[libprotobuf ERROR google/protobuf/wire_format_lite.cc:581] String field 'waymo.open_dataset.Context.name' contains invalid UTF-8 data when parsing a protocol buffer. Use the 'bytes' type if you intend to send raw bytes. \n",
      "[libprotobuf ERROR google/protobuf/wire_format_lite.cc:581] String field 'waymo.open_dataset.Context.name' contains invalid UTF-8 data when parsing a protocol buffer. Use the 'bytes' type if you intend to send raw bytes. \n",
      "[libprotobuf ERROR google/protobuf/wire_format_lite.cc:581] String field 'waymo.open_dataset.Context.name' contains invalid UTF-8 data when parsing a protocol buffer. Use the 'bytes' type if you intend to send raw bytes. \n",
      "[libprotobuf ERROR google/protobuf/wire_format_lite.cc:581] String field 'waymo.open_dataset.Context.name' contains invalid UTF-8 data when parsing a protocol buffer. Use the 'bytes' type if you intend to send raw bytes. \n",
      "[libprotobuf ERROR google/protobuf/wire_format_lite.cc:581] String field 'waymo.open_dataset.Context.name' contains invalid UTF-8 data when parsing a protocol buffer. Use the 'bytes' type if you intend to send raw bytes. \n",
      "[libprotobuf ERROR google/protobuf/wire_format_lite.cc:581] String field 'waymo.open_dataset.Context.name' contains invalid UTF-8 data when parsing a protocol buffer. Use the 'bytes' type if you intend to send raw bytes. \n",
      "[libprotobuf ERROR google/protobuf/wire_format_lite.cc:581] String field 'waymo.open_dataset.Context.name' contains invalid UTF-8 data when parsing a protocol buffer. Use the 'bytes' type if you intend to send raw bytes. \n",
      "[libprotobuf ERROR google/protobuf/wire_format_lite.cc:581] String field 'waymo.open_dataset.Context.name' contains invalid UTF-8 data when parsing a protocol buffer. Use the 'bytes' type if you intend to send raw bytes. \n",
      "[libprotobuf ERROR google/protobuf/wire_format_lite.cc:581] String field 'waymo.open_dataset.Context.name' contains invalid UTF-8 data when parsing a protocol buffer. Use the 'bytes' type if you intend to send raw bytes. \n",
      "[libprotobuf ERROR google/protobuf/wire_format_lite.cc:581] String field 'waymo.open_dataset.Context.name' contains invalid UTF-8 data when parsing a protocol buffer. Use the 'bytes' type if you intend to send raw bytes. \n",
      "[libprotobuf ERROR google/protobuf/wire_format_lite.cc:581] String field 'waymo.open_dataset.Context.name' contains invalid UTF-8 data when parsing a protocol buffer. Use the 'bytes' type if you intend to send raw bytes. \n",
      "[libprotobuf ERROR google/protobuf/wire_format_lite.cc:581] String field 'waymo.open_dataset.Context.name' contains invalid UTF-8 data when parsing a protocol buffer. Use the 'bytes' type if you intend to send raw bytes. \n",
      "[libprotobuf ERROR google/protobuf/wire_format_lite.cc:581] String field 'waymo.open_dataset.Context.name' contains invalid UTF-8 data when parsing a protocol buffer. Use the 'bytes' type if you intend to send raw bytes. \n",
      "[libprotobuf ERROR google/protobuf/wire_format_lite.cc:581] String field 'waymo.open_dataset.Context.name' contains invalid UTF-8 data when parsing a protocol buffer. Use the 'bytes' type if you intend to send raw bytes. \n",
      "[libprotobuf ERROR google/protobuf/wire_format_lite.cc:581] String field 'waymo.open_dataset.Context.name' contains invalid UTF-8 data when parsing a protocol buffer. Use the 'bytes' type if you intend to send raw bytes. \n",
      "[libprotobuf ERROR google/protobuf/wire_format_lite.cc:581] String field 'waymo.open_dataset.Context.name' contains invalid UTF-8 data when parsing a protocol buffer. Use the 'bytes' type if you intend to send raw bytes. \n",
      "[libprotobuf ERROR google/protobuf/wire_format_lite.cc:581] String field 'waymo.open_dataset.Context.name' contains invalid UTF-8 data when parsing a protocol buffer. Use the 'bytes' type if you intend to send raw bytes. \n",
      "[libprotobuf ERROR google/protobuf/wire_format_lite.cc:581] String field 'waymo.open_dataset.Context.name' contains invalid UTF-8 data when parsing a protocol buffer. Use the 'bytes' type if you intend to send raw bytes. \n",
      "[libprotobuf ERROR google/protobuf/wire_format_lite.cc:581] String field 'waymo.open_dataset.Context.name' contains invalid UTF-8 data when parsing a protocol buffer. Use the 'bytes' type if you intend to send raw bytes. \n",
      "[libprotobuf ERROR google/protobuf/wire_format_lite.cc:581] String field 'waymo.open_dataset.Context.name' contains invalid UTF-8 data when parsing a protocol buffer. Use the 'bytes' type if you intend to send raw bytes. \n",
      "[libprotobuf ERROR google/protobuf/wire_format_lite.cc:581] String field 'waymo.open_dataset.Context.name' contains invalid UTF-8 data when parsing a protocol buffer. Use the 'bytes' type if you intend to send raw bytes. \n",
      "[libprotobuf ERROR google/protobuf/wire_format_lite.cc:581] String field 'waymo.open_dataset.Context.name' contains invalid UTF-8 data when parsing a protocol buffer. Use the 'bytes' type if you intend to send raw bytes. \n",
      "[libprotobuf ERROR google/protobuf/wire_format_lite.cc:581] String field 'waymo.open_dataset.Context.name' contains invalid UTF-8 data when parsing a protocol buffer. Use the 'bytes' type if you intend to send raw bytes. \n",
      "[libprotobuf ERROR google/protobuf/wire_format_lite.cc:581] String field 'waymo.open_dataset.Context.name' contains invalid UTF-8 data when parsing a protocol buffer. Use the 'bytes' type if you intend to send raw bytes. \n",
      "[libprotobuf ERROR google/protobuf/wire_format_lite.cc:581] String field 'waymo.open_dataset.Context.name' contains invalid UTF-8 data when parsing a protocol buffer. Use the 'bytes' type if you intend to send raw bytes. \n",
      "[libprotobuf ERROR google/protobuf/wire_format_lite.cc:581] String field 'waymo.open_dataset.Context.name' contains invalid UTF-8 data when parsing a protocol buffer. Use the 'bytes' type if you intend to send raw bytes. \n",
      "[libprotobuf ERROR google/protobuf/wire_format_lite.cc:581] String field 'waymo.open_dataset.Context.name' contains invalid UTF-8 data when parsing a protocol buffer. Use the 'bytes' type if you intend to send raw bytes. \n",
      "[libprotobuf ERROR google/protobuf/wire_format_lite.cc:581] String field 'waymo.open_dataset.Context.name' contains invalid UTF-8 data when parsing a protocol buffer. Use the 'bytes' type if you intend to send raw bytes. \n",
      "[libprotobuf ERROR google/protobuf/wire_format_lite.cc:581] String field 'waymo.open_dataset.Context.name' contains invalid UTF-8 data when parsing a protocol buffer. Use the 'bytes' type if you intend to send raw bytes. \n",
      "[libprotobuf ERROR google/protobuf/wire_format_lite.cc:581] String field 'waymo.open_dataset.Context.name' contains invalid UTF-8 data when parsing a protocol buffer. Use the 'bytes' type if you intend to send raw bytes. \n",
      "[libprotobuf ERROR google/protobuf/wire_format_lite.cc:581] String field 'waymo.open_dataset.Context.name' contains invalid UTF-8 data when parsing a protocol buffer. Use the 'bytes' type if you intend to send raw bytes. \n",
      "[libprotobuf ERROR google/protobuf/wire_format_lite.cc:581] String field 'waymo.open_dataset.Context.name' contains invalid UTF-8 data when parsing a protocol buffer. Use the 'bytes' type if you intend to send raw bytes. \n",
      "[libprotobuf ERROR google/protobuf/wire_format_lite.cc:581] String field 'waymo.open_dataset.Context.name' contains invalid UTF-8 data when parsing a protocol buffer. Use the 'bytes' type if you intend to send raw bytes. \n",
      "[libprotobuf ERROR google/protobuf/wire_format_lite.cc:581] String field 'waymo.open_dataset.Context.name' contains invalid UTF-8 data when parsing a protocol buffer. Use the 'bytes' type if you intend to send raw bytes. \n",
      "[libprotobuf ERROR google/protobuf/wire_format_lite.cc:581] String field 'waymo.open_dataset.Context.name' contains invalid UTF-8 data when parsing a protocol buffer. Use the 'bytes' type if you intend to send raw bytes. \n",
      "[libprotobuf ERROR google/protobuf/wire_format_lite.cc:581] String field 'waymo.open_dataset.Context.name' contains invalid UTF-8 data when parsing a protocol buffer. Use the 'bytes' type if you intend to send raw bytes. \n",
      "[libprotobuf ERROR google/protobuf/wire_format_lite.cc:581] String field 'waymo.open_dataset.Context.name' contains invalid UTF-8 data when parsing a protocol buffer. Use the 'bytes' type if you intend to send raw bytes. \n",
      "[libprotobuf ERROR google/protobuf/wire_format_lite.cc:581] String field 'waymo.open_dataset.Context.name' contains invalid UTF-8 data when parsing a protocol buffer. Use the 'bytes' type if you intend to send raw bytes. \n",
      "[libprotobuf ERROR google/protobuf/wire_format_lite.cc:581] String field 'waymo.open_dataset.Context.name' contains invalid UTF-8 data when parsing a protocol buffer. Use the 'bytes' type if you intend to send raw bytes. \n",
      "[libprotobuf ERROR google/protobuf/wire_format_lite.cc:581] String field 'waymo.open_dataset.Context.name' contains invalid UTF-8 data when parsing a protocol buffer. Use the 'bytes' type if you intend to send raw bytes. \n",
      "[libprotobuf ERROR google/protobuf/wire_format_lite.cc:581] String field 'waymo.open_dataset.Context.name' contains invalid UTF-8 data when parsing a protocol buffer. Use the 'bytes' type if you intend to send raw bytes. \n",
      "[libprotobuf ERROR google/protobuf/wire_format_lite.cc:581] String field 'waymo.open_dataset.Context.name' contains invalid UTF-8 data when parsing a protocol buffer. Use the 'bytes' type if you intend to send raw bytes. \n",
      "[libprotobuf ERROR google/protobuf/wire_format_lite.cc:581] String field 'waymo.open_dataset.Context.name' contains invalid UTF-8 data when parsing a protocol buffer. Use the 'bytes' type if you intend to send raw bytes. \n",
      "[libprotobuf ERROR google/protobuf/wire_format_lite.cc:581] String field 'waymo.open_dataset.Context.name' contains invalid UTF-8 data when parsing a protocol buffer. Use the 'bytes' type if you intend to send raw bytes. \n"
     ]
    }
   ],
   "source": [
    "FILENAME = 'tutorial/waymo-od/tutorial/frames'\n",
    "file_name1 = 'training_tfexample.tfrecord-00002-of-01000'\n",
    "dataset = tf.data.TFRecordDataset(data_dir / 'motion' / 'uncompressed' / 'tf_example' / 'training' / file_name1, compression_type='')\n",
    "for data in dataset:\n",
    "    frame = open_dataset.Frame()\n",
    "    frame.ParseFromString(bytearray(data.numpy()))\n",
    "    break"
   ],
   "metadata": {
    "collapsed": false
   }
  },
  {
   "cell_type": "code",
   "execution_count": 7,
   "outputs": [
    {
     "data": {
      "text/plain": "context {\n  name: \"\\n\\032traffic_light_state/past/z\\022\\206\\005\\022\\203\\005\\n\\200\\005\\000\\000\\200\\277\\000\\000\\200\\277\\000\\000\\200\\277\\000\\000\\200\\277\\000\\000\\200\\277\\000\\000\\200\\277\\000\\000\\200\\277\\000\\000\\200\\277\\000\\000\\200\\277\\000\\000\\200\\277\\000\\000\\200\\277\\000\\000\\200\\277\\000\\000\\200\\277\\000\\000\\200\\277\\000\\000\\200\\277\\000\\000\\200\\277\\000\\000\\200\\277\\000\\000\\200\\277\\000\\000\\200\\277\\000\\000\\200\\277\\000\\000\\200\\277\\000\\000\\200\\277\\000\\000\\200\\277\\000\\000\\200\\277\\000\\000\\200\\277\\000\\000\\200\\277\\000\\000\\200\\277\\000\\000\\200\\277\\000\\000\\200\\277\\000\\000\\200\\277\\000\\000\\200\\277\\000\\000\\200\\277\\000\\000\\200\\277\\000\\000\\200\\277\\000\\000\\200\\277\\000\\000\\200\\277\\000\\000\\200\\277\\000\\000\\200\\277\\000\\000\\200\\277\\000\\000\\200\\277\\000\\000\\200\\277\\000\\000\\200\\277\\000\\000\\200\\277\\000\\000\\200\\277\\000\\000\\200\\277\\000\\000\\200\\277\\000\\000\\200\\277\\000\\000\\200\\277\\000\\000\\200\\277\\000\\000\\200\\277\\000\\000\\200\\277\\000\\000\\200\\277\\000\\000\\200\\277\\000\\000\\200\\277\\000\\000\\200\\277\\000\\000\\200\\277\\000\\000\\200\\277\\000\\000\\200\\277\\000\\000\\200\\277\\000\\000\\200\\277\\000\\000\\200\\277\\000\\000\\200\\277\\000\\000\\200\\277\\000\\000\\200\\277\\000\\000\\200\\277\\000\\000\\200\\277\\000\\000\\200\\277\\000\\000\\200\\277\\000\\000\\200\\277\\000\\000\\200\\277\\000\\000\\200\\277\\000\\000\\200\\277\\000\\000\\200\\277\\000\\000\\200\\277\\000\\000\\200\\277\\000\\000\\200\\277\\000\\000\\200\\277\\000\\000\\200\\277\\000\\000\\200\\277\\000\\000\\200\\277\\000\\000\\200\\277\\000\\000\\200\\277\\000\\000\\200\\277\\000\\000\\200\\277\\000\\000\\200\\277\\000\\000\\200\\277\\000\\000\\200\\277\\000\\000\\200\\277\\000\\000\\200\\277\\000\\000\\200\\277\\000\\000\\200\\277\\000\\000\\200\\277\\000\\000\\200\\277\\000\\000\\200\\277\\000\\000\\200\\277\\000\\000\\200\\277\\000\\000\\200\\277\\000\\000\\200\\277\\000\\000\\200\\277\\000\\000\\200\\277\\000\\000\\200\\277\\000\\000\\200\\277\\000\\000\\200\\277\\000\\000\\200\\277\\000\\000\\200\\277\\000\\000\\200\\277\\000\\000\\200\\277\\000\\000\\200\\277\\000\\000\\200\\277\\000\\000\\200\\277\\000\\000\\200\\277\\000\\000\\200\\277\\000\\000\\200\\277\\000\\000\\200\\277\\000\\000\\200\\277\\000\\000\\200\\277\\000\\000\\200\\277\\000\\000\\200\\277\\000\\000\\200\\277\\000\\000\\200\\277\\000\\000\\200\\277\\000\\000\\200\\277\\000\\000\\200\\277\\000\\000\\200\\277\\000\\000\\200\\277\\000\\000\\200\\277\\000\\000\\200\\277\\000\\000\\200\\277\\000\\000\\200\\277\\000\\000\\200\\277\\000\\000\\200\\277\\000\\000\\200\\277\\000\\000\\200\\277\\000\\000\\200\\277\\000\\000\\200\\277\\000\\000\\200\\277\\000\\000\\200\\277\\000\\000\\200\\277\\000\\000\\200\\277\\000\\000\\200\\277\\000\\000\\200\\277\\000\\000\\200\\277\\000\\000\\200\\277\\000\\000\\200\\277\\000\\000\\200\\277\\000\\000\\200\\277\\000\\000\\200\\277\\000\\000\\200\\277\\000\\000\\200\\277\\000\\000\\200\\277\\000\\000\\200\\277\\000\\000\\200\\277\\000\\000\\200\\277\\000\\000\\200\\277\\000\\000\\200\\277\\000\\000\\200\\277\\000\\000\\200\\277\\000\\000\\200\\277\\000\\000\\200\\277\\000\\000\\200\\277\"\n}"
     },
     "execution_count": 7,
     "metadata": {},
     "output_type": "execute_result"
    }
   ],
   "source": [
    "frame\n"
   ],
   "metadata": {
    "collapsed": false
   }
  },
  {
   "cell_type": "code",
   "execution_count": null,
   "outputs": [],
   "source": [],
   "metadata": {
    "collapsed": false
   }
  }
 ],
 "metadata": {
  "kernelspec": {
   "display_name": "Python 3",
   "language": "python",
   "name": "python3"
  },
  "language_info": {
   "codemirror_mode": {
    "name": "ipython",
    "version": 2
   },
   "file_extension": ".py",
   "mimetype": "text/x-python",
   "name": "python",
   "nbconvert_exporter": "python",
   "pygments_lexer": "ipython2",
   "version": "2.7.6"
  }
 },
 "nbformat": 4,
 "nbformat_minor": 0
}
